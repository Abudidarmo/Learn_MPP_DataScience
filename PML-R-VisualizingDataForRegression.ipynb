{
 "cells": [
  {
   "cell_type": "markdown",
   "metadata": {},
   "source": [
    "# Visualizing Data for Regression\n",
    "\n",
    "In this lab, you will learn how to use `R` to **visualize and explore data**. This process is also known as **exploratory data analysis**. \n",
    "\n",
    "Before creating analytical models, a data scientist must develop an understanding of the properties and relationships in a dataset. There are **two goals for data exploration and visualization**:\n",
    "\n",
    "1. To *understand the relationships* between the data columns.\n",
    "\n",
    "\n",
    "2. To *identify features that may be useful for **predicting labels*** in machine learning projects.\n",
    "\n",
    "\n",
    "3. Additionally, redundant, **collinear features** must be identified.\n",
    "\n",
    "Thus, visualization for data exploration is an essential data science skill. In this lab you will explore two datasets.\n",
    "\n",
    "For this lab, your first goal is **to explore a dataset** that includes information about automobile pricing. In other labs you will use what you learn through visualization to create a solution that **predicts the price** of an automobile based on its characteristics.\n",
    "\n",
    "This type of `predictive modeling`, in which you attempt to predict a real numeric value, is known as **regression**; and it will be discussed in more detail later in the course. For now, the focus of this lab is on visually exploring the data to determine which features may be useful in predicting automobile prices."
   ]
  },
  {
   "cell_type": "markdown",
   "metadata": {},
   "source": [
    "This lesson is divided into several parts. In each part you will learn how to use the visualization tools available in R to explore complex data. Specifically you will learn:\n",
    "\n",
    "- **Summarizing and manipulating data**:\n",
    "  * How large is it?\n",
    "  * What columns are of interest?\n",
    "  * What are the characteristics of the data derived from summary statistics and counts?\n",
    "\n",
    "\n",
    "- **Developing multiple views of complex data** using multiple chart types. Exploring complex data requires multiple views to understand the many relationships. It is impossible to develop a complete understanding from just a few plots.\n",
    "\n",
    "\n",
    "- **Overview of plotting with ggplot2** a powerful and flexible R plotting packages. \n",
    "\n",
    "\n",
    "- **Overview of univariate plot types** is a review of creating these basic plots using ggplot2. These plot types allow you to study the distributional properties of the variables in your data set. \n",
    "\n",
    "\n",
    "- **Overview of two dimensional plot types** is a review of creating basic plot types used to construct visualizations. These plots naturally display the relationship between two variables on the 2-d computer graphics display. \n",
    "\n",
    "\n",
    "- **Using Aesthetics** is an overview of how to project additional plot dimensions using plot aesthetics. Using aesthetics provides a method for projecting additional dimensions onto the 2-d computer graphics display. \n",
    "\n",
    "\n",
    "- **Faceted plotting** also know as conditioned plotting or lattice plotting, introduces a powerful method for visualizing higher dimensional data. Arrays of plots of subsets of the data are arranged on the 2-d computer graphics display. "
   ]
  },
  {
   "cell_type": "markdown",
   "metadata": {},
   "source": [
    "## Load the dataset\n",
    "\n",
    "Before you can start visualization, you must load the dataset. The code in the cell below loads the data and performs some data cleaning. You will work though data cleaning and preparation methods in other labs. \n",
    "\n",
    "As a first step execute the code in the cell below to import the `R packages` you will need for the rest of this network. Execute this code "
   ]
  },
  {
   "cell_type": "code",
   "execution_count": 3,
   "metadata": {},
   "outputs": [
    {
     "ename": "ERROR",
     "evalue": "Error in library(GGally): there is no package called 'GGally'\n",
     "output_type": "error",
     "traceback": [
      "Error in library(GGally): there is no package called 'GGally'\nTraceback:\n",
      "1. library(GGally)",
      "2. stop(txt, domain = NA)"
     ]
    }
   ],
   "source": [
    "## Import packages\n",
    "library(ggplot2)\n",
    "library(repr)\n",
    "library(hexbin)\n",
    "library(GGally) ## Adds pair-wise scatter plots to ggplot2\n",
    "options(repr.plot.width=4, repr.plot.height=4) # Set the initial plot area dimensions"
   ]
  },
  {
   "cell_type": "markdown",
   "metadata": {},
   "source": [
    "The code in the cell below to loads and prepare the automotive price dataset. Notice that `read.csv` uses the `stringsAsFactors = FALSE` argument *to ensure string variables remain as string*. Execute this code."
   ]
  },
  {
   "cell_type": "code",
   "execution_count": 2,
   "metadata": {},
   "outputs": [
    {
     "data": {
      "text/html": [
       "<ol class=list-inline>\n",
       "\t<li>'make'</li>\n",
       "\t<li>'fuel.type'</li>\n",
       "\t<li>'aspiration'</li>\n",
       "\t<li>'num.of.doors'</li>\n",
       "\t<li>'body.style'</li>\n",
       "\t<li>'drive.wheels'</li>\n",
       "\t<li>'engine.location'</li>\n",
       "\t<li>'wheel.base'</li>\n",
       "\t<li>'length'</li>\n",
       "\t<li>'width'</li>\n",
       "\t<li>'height'</li>\n",
       "\t<li>'curb.weight'</li>\n",
       "\t<li>'engine.type'</li>\n",
       "\t<li>'num.of.cylinders'</li>\n",
       "\t<li>'engine.size'</li>\n",
       "\t<li>'fuel.system'</li>\n",
       "\t<li>'bore'</li>\n",
       "\t<li>'stroke'</li>\n",
       "\t<li>'compression.ratio'</li>\n",
       "\t<li>'horsepower'</li>\n",
       "\t<li>'peak.rpm'</li>\n",
       "\t<li>'city.mpg'</li>\n",
       "\t<li>'highway.mpg'</li>\n",
       "\t<li>'price'</li>\n",
       "</ol>\n"
      ],
      "text/latex": [
       "\\begin{enumerate*}\n",
       "\\item 'make'\n",
       "\\item 'fuel.type'\n",
       "\\item 'aspiration'\n",
       "\\item 'num.of.doors'\n",
       "\\item 'body.style'\n",
       "\\item 'drive.wheels'\n",
       "\\item 'engine.location'\n",
       "\\item 'wheel.base'\n",
       "\\item 'length'\n",
       "\\item 'width'\n",
       "\\item 'height'\n",
       "\\item 'curb.weight'\n",
       "\\item 'engine.type'\n",
       "\\item 'num.of.cylinders'\n",
       "\\item 'engine.size'\n",
       "\\item 'fuel.system'\n",
       "\\item 'bore'\n",
       "\\item 'stroke'\n",
       "\\item 'compression.ratio'\n",
       "\\item 'horsepower'\n",
       "\\item 'peak.rpm'\n",
       "\\item 'city.mpg'\n",
       "\\item 'highway.mpg'\n",
       "\\item 'price'\n",
       "\\end{enumerate*}\n"
      ],
      "text/markdown": [
       "1. 'make'\n",
       "2. 'fuel.type'\n",
       "3. 'aspiration'\n",
       "4. 'num.of.doors'\n",
       "5. 'body.style'\n",
       "6. 'drive.wheels'\n",
       "7. 'engine.location'\n",
       "8. 'wheel.base'\n",
       "9. 'length'\n",
       "10. 'width'\n",
       "11. 'height'\n",
       "12. 'curb.weight'\n",
       "13. 'engine.type'\n",
       "14. 'num.of.cylinders'\n",
       "15. 'engine.size'\n",
       "16. 'fuel.system'\n",
       "17. 'bore'\n",
       "18. 'stroke'\n",
       "19. 'compression.ratio'\n",
       "20. 'horsepower'\n",
       "21. 'peak.rpm'\n",
       "22. 'city.mpg'\n",
       "23. 'highway.mpg'\n",
       "24. 'price'\n",
       "\n",
       "\n"
      ],
      "text/plain": [
       " [1] \"make\"              \"fuel.type\"         \"aspiration\"       \n",
       " [4] \"num.of.doors\"      \"body.style\"        \"drive.wheels\"     \n",
       " [7] \"engine.location\"   \"wheel.base\"        \"length\"           \n",
       "[10] \"width\"             \"height\"            \"curb.weight\"      \n",
       "[13] \"engine.type\"       \"num.of.cylinders\"  \"engine.size\"      \n",
       "[16] \"fuel.system\"       \"bore\"              \"stroke\"           \n",
       "[19] \"compression.ratio\" \"horsepower\"        \"peak.rpm\"         \n",
       "[22] \"city.mpg\"          \"highway.mpg\"       \"price\"            "
      ]
     },
     "metadata": {},
     "output_type": "display_data"
    }
   ],
   "source": [
    "read.auto = function(file = 'Automobile price data _Raw_.csv'){\n",
    "    ## Read the csv file\n",
    "    auto.price <- read.csv(file, header = TRUE, stringsAsFactors = FALSE)\n",
    "\n",
    "    \n",
    "    numcols <- c('price', 'bore', 'stroke', 'horsepower', 'peak.rpm')\n",
    "    for(col in numcols){\n",
    "        temp = auto.price[,col]\n",
    "        auto.price[,col] = ifelse(temp == '?', NA, auto.price[,col])\n",
    "    }\n",
    "    \n",
    "    ## Coerce some character columns to numeric\n",
    "    auto.price[, numcols] <- lapply(auto.price[, numcols], as.numeric)\n",
    "\n",
    "    ## Remove cases or rows with missing values. In this case we keep the \n",
    "    ## rows which do not have nas. \n",
    "    auto.price = auto.price[complete.cases(auto.price[, numcols]), ]\n",
    "    \n",
    "    ## Drop some unneeded columns\n",
    "    auto.price[,'symboling'] = NULL\n",
    "    auto.price[,'normalized.losses'] = NULL\n",
    "    \n",
    "    return(auto.price)\n",
    "}\n",
    "auto_prices = read.auto()\n",
    "colnames(auto_prices)"
   ]
  },
  {
   "cell_type": "markdown",
   "metadata": {},
   "source": [
    "Notice the column names. Most of these names are human interpretable and give you an idea of the information in this dataset.\n",
    "\n",
    "The `price` column is the **label**, the variable you are trying to predict. "
   ]
  },
  {
   "cell_type": "markdown",
   "metadata": {},
   "source": [
    "## Exploring the data\n",
    "\n",
    "With the dataset loaded, you will now explore some basic properties using summary methods. \n",
    "\n",
    "First, you will examine the head (first few rows) of the data frame to gain an idea of the contents by executing  the code in the cell below"
   ]
  },
  {
   "cell_type": "code",
   "execution_count": 3,
   "metadata": {
    "scrolled": true
   },
   "outputs": [
    {
     "data": {
      "text/html": [
       "<table>\n",
       "<thead><tr><th scope=col>make</th><th scope=col>fuel.type</th><th scope=col>aspiration</th><th scope=col>num.of.doors</th><th scope=col>body.style</th><th scope=col>drive.wheels</th><th scope=col>engine.location</th><th scope=col>wheel.base</th><th scope=col>length</th><th scope=col>width</th><th scope=col>...</th><th scope=col>engine.size</th><th scope=col>fuel.system</th><th scope=col>bore</th><th scope=col>stroke</th><th scope=col>compression.ratio</th><th scope=col>horsepower</th><th scope=col>peak.rpm</th><th scope=col>city.mpg</th><th scope=col>highway.mpg</th><th scope=col>price</th></tr></thead>\n",
       "<tbody>\n",
       "\t<tr><td>alfa-romero</td><td>gas        </td><td>std        </td><td>two        </td><td>convertible</td><td>rwd        </td><td>front      </td><td>88.6       </td><td>168.8      </td><td>64.1       </td><td>...        </td><td>130        </td><td>mpfi       </td><td>3.47       </td><td>2.68       </td><td> 9.0       </td><td>111        </td><td>5000       </td><td>21         </td><td>27         </td><td>13495      </td></tr>\n",
       "\t<tr><td>alfa-romero</td><td>gas        </td><td>std        </td><td>two        </td><td>convertible</td><td>rwd        </td><td>front      </td><td>88.6       </td><td>168.8      </td><td>64.1       </td><td>...        </td><td>130        </td><td>mpfi       </td><td>3.47       </td><td>2.68       </td><td> 9.0       </td><td>111        </td><td>5000       </td><td>21         </td><td>27         </td><td>16500      </td></tr>\n",
       "\t<tr><td>alfa-romero</td><td>gas        </td><td>std        </td><td>two        </td><td>hatchback  </td><td>rwd        </td><td>front      </td><td>94.5       </td><td>171.2      </td><td>65.5       </td><td>...        </td><td>152        </td><td>mpfi       </td><td>2.68       </td><td>3.47       </td><td> 9.0       </td><td>154        </td><td>5000       </td><td>19         </td><td>26         </td><td>16500      </td></tr>\n",
       "\t<tr><td>audi       </td><td>gas        </td><td>std        </td><td>four       </td><td>sedan      </td><td>fwd        </td><td>front      </td><td>99.8       </td><td>176.6      </td><td>66.2       </td><td>...        </td><td>109        </td><td>mpfi       </td><td>3.19       </td><td>3.40       </td><td>10.0       </td><td>102        </td><td>5500       </td><td>24         </td><td>30         </td><td>13950      </td></tr>\n",
       "\t<tr><td>audi       </td><td>gas        </td><td>std        </td><td>four       </td><td>sedan      </td><td>4wd        </td><td>front      </td><td>99.4       </td><td>176.6      </td><td>66.4       </td><td>...        </td><td>136        </td><td>mpfi       </td><td>3.19       </td><td>3.40       </td><td> 8.0       </td><td>115        </td><td>5500       </td><td>18         </td><td>22         </td><td>17450      </td></tr>\n",
       "\t<tr><td>audi       </td><td>gas        </td><td>std        </td><td>two        </td><td>sedan      </td><td>fwd        </td><td>front      </td><td>99.8       </td><td>177.3      </td><td>66.3       </td><td>...        </td><td>136        </td><td>mpfi       </td><td>3.19       </td><td>3.40       </td><td> 8.5       </td><td>110        </td><td>5500       </td><td>19         </td><td>25         </td><td>15250      </td></tr>\n",
       "</tbody>\n",
       "</table>\n"
      ],
      "text/latex": [
       "\\begin{tabular}{r|llllllllllllllllllllllll}\n",
       " make & fuel.type & aspiration & num.of.doors & body.style & drive.wheels & engine.location & wheel.base & length & width & ... & engine.size & fuel.system & bore & stroke & compression.ratio & horsepower & peak.rpm & city.mpg & highway.mpg & price\\\\\n",
       "\\hline\n",
       "\t alfa-romero & gas         & std         & two         & convertible & rwd         & front       & 88.6        & 168.8       & 64.1        & ...         & 130         & mpfi        & 3.47        & 2.68        &  9.0        & 111         & 5000        & 21          & 27          & 13495      \\\\\n",
       "\t alfa-romero & gas         & std         & two         & convertible & rwd         & front       & 88.6        & 168.8       & 64.1        & ...         & 130         & mpfi        & 3.47        & 2.68        &  9.0        & 111         & 5000        & 21          & 27          & 16500      \\\\\n",
       "\t alfa-romero & gas         & std         & two         & hatchback   & rwd         & front       & 94.5        & 171.2       & 65.5        & ...         & 152         & mpfi        & 2.68        & 3.47        &  9.0        & 154         & 5000        & 19          & 26          & 16500      \\\\\n",
       "\t audi        & gas         & std         & four        & sedan       & fwd         & front       & 99.8        & 176.6       & 66.2        & ...         & 109         & mpfi        & 3.19        & 3.40        & 10.0        & 102         & 5500        & 24          & 30          & 13950      \\\\\n",
       "\t audi        & gas         & std         & four        & sedan       & 4wd         & front       & 99.4        & 176.6       & 66.4        & ...         & 136         & mpfi        & 3.19        & 3.40        &  8.0        & 115         & 5500        & 18          & 22          & 17450      \\\\\n",
       "\t audi        & gas         & std         & two         & sedan       & fwd         & front       & 99.8        & 177.3       & 66.3        & ...         & 136         & mpfi        & 3.19        & 3.40        &  8.5        & 110         & 5500        & 19          & 25          & 15250      \\\\\n",
       "\\end{tabular}\n"
      ],
      "text/markdown": [
       "\n",
       "make | fuel.type | aspiration | num.of.doors | body.style | drive.wheels | engine.location | wheel.base | length | width | ... | engine.size | fuel.system | bore | stroke | compression.ratio | horsepower | peak.rpm | city.mpg | highway.mpg | price | \n",
       "|---|---|---|---|---|---|\n",
       "| alfa-romero | gas         | std         | two         | convertible | rwd         | front       | 88.6        | 168.8       | 64.1        | ...         | 130         | mpfi        | 3.47        | 2.68        |  9.0        | 111         | 5000        | 21          | 27          | 13495       | \n",
       "| alfa-romero | gas         | std         | two         | convertible | rwd         | front       | 88.6        | 168.8       | 64.1        | ...         | 130         | mpfi        | 3.47        | 2.68        |  9.0        | 111         | 5000        | 21          | 27          | 16500       | \n",
       "| alfa-romero | gas         | std         | two         | hatchback   | rwd         | front       | 94.5        | 171.2       | 65.5        | ...         | 152         | mpfi        | 2.68        | 3.47        |  9.0        | 154         | 5000        | 19          | 26          | 16500       | \n",
       "| audi        | gas         | std         | four        | sedan       | fwd         | front       | 99.8        | 176.6       | 66.2        | ...         | 109         | mpfi        | 3.19        | 3.40        | 10.0        | 102         | 5500        | 24          | 30          | 13950       | \n",
       "| audi        | gas         | std         | four        | sedan       | 4wd         | front       | 99.4        | 176.6       | 66.4        | ...         | 136         | mpfi        | 3.19        | 3.40        |  8.0        | 115         | 5500        | 18          | 22          | 17450       | \n",
       "| audi        | gas         | std         | two         | sedan       | fwd         | front       | 99.8        | 177.3       | 66.3        | ...         | 136         | mpfi        | 3.19        | 3.40        |  8.5        | 110         | 5500        | 19          | 25          | 15250       | \n",
       "\n",
       "\n"
      ],
      "text/plain": [
       "  make        fuel.type aspiration num.of.doors body.style  drive.wheels\n",
       "1 alfa-romero gas       std        two          convertible rwd         \n",
       "2 alfa-romero gas       std        two          convertible rwd         \n",
       "3 alfa-romero gas       std        two          hatchback   rwd         \n",
       "4 audi        gas       std        four         sedan       fwd         \n",
       "5 audi        gas       std        four         sedan       4wd         \n",
       "6 audi        gas       std        two          sedan       fwd         \n",
       "  engine.location wheel.base length width ... engine.size fuel.system bore\n",
       "1 front           88.6       168.8  64.1  ... 130         mpfi        3.47\n",
       "2 front           88.6       168.8  64.1  ... 130         mpfi        3.47\n",
       "3 front           94.5       171.2  65.5  ... 152         mpfi        2.68\n",
       "4 front           99.8       176.6  66.2  ... 109         mpfi        3.19\n",
       "5 front           99.4       176.6  66.4  ... 136         mpfi        3.19\n",
       "6 front           99.8       177.3  66.3  ... 136         mpfi        3.19\n",
       "  stroke compression.ratio horsepower peak.rpm city.mpg highway.mpg price\n",
       "1 2.68    9.0              111        5000     21       27          13495\n",
       "2 2.68    9.0              111        5000     21       27          16500\n",
       "3 3.47    9.0              154        5000     19       26          16500\n",
       "4 3.40   10.0              102        5500     24       30          13950\n",
       "5 3.40    8.0              115        5500     18       22          17450\n",
       "6 3.40    8.5              110        5500     19       25          15250"
      ]
     },
     "metadata": {},
     "output_type": "display_data"
    }
   ],
   "source": [
    "head(auto_prices)"
   ]
  },
  {
   "cell_type": "markdown",
   "metadata": {},
   "source": [
    "Scroll across and examine the contents of each column in this dataset. Some columns have **numeric values** and other columns contain **strings variables**. Some of the numeric columns appear to contain **integer values** and other have **floating point numbers**. In machine learning we treat the string columns as **categorical variables**. \n",
    "\n",
    "To better understand the data types in this dataset execute the code in the cell below to print the types and the first few values of each column."
   ]
  },
  {
   "cell_type": "code",
   "execution_count": 4,
   "metadata": {},
   "outputs": [
    {
     "name": "stdout",
     "output_type": "stream",
     "text": [
      "'data.frame':\t195 obs. of  24 variables:\n",
      " $ make             : chr  \"alfa-romero\" \"alfa-romero\" \"alfa-romero\" \"audi\" ...\n",
      " $ fuel.type        : chr  \"gas\" \"gas\" \"gas\" \"gas\" ...\n",
      " $ aspiration       : chr  \"std\" \"std\" \"std\" \"std\" ...\n",
      " $ num.of.doors     : chr  \"two\" \"two\" \"two\" \"four\" ...\n",
      " $ body.style       : chr  \"convertible\" \"convertible\" \"hatchback\" \"sedan\" ...\n",
      " $ drive.wheels     : chr  \"rwd\" \"rwd\" \"rwd\" \"fwd\" ...\n",
      " $ engine.location  : chr  \"front\" \"front\" \"front\" \"front\" ...\n",
      " $ wheel.base       : num  88.6 88.6 94.5 99.8 99.4 ...\n",
      " $ length           : num  169 169 171 177 177 ...\n",
      " $ width            : num  64.1 64.1 65.5 66.2 66.4 66.3 71.4 71.4 71.4 64.8 ...\n",
      " $ height           : num  48.8 48.8 52.4 54.3 54.3 53.1 55.7 55.7 55.9 54.3 ...\n",
      " $ curb.weight      : int  2548 2548 2823 2337 2824 2507 2844 2954 3086 2395 ...\n",
      " $ engine.type      : chr  \"dohc\" \"dohc\" \"ohcv\" \"ohc\" ...\n",
      " $ num.of.cylinders : chr  \"four\" \"four\" \"six\" \"four\" ...\n",
      " $ engine.size      : int  130 130 152 109 136 136 136 136 131 108 ...\n",
      " $ fuel.system      : chr  \"mpfi\" \"mpfi\" \"mpfi\" \"mpfi\" ...\n",
      " $ bore             : num  3.47 3.47 2.68 3.19 3.19 3.19 3.19 3.19 3.13 3.5 ...\n",
      " $ stroke           : num  2.68 2.68 3.47 3.4 3.4 3.4 3.4 3.4 3.4 2.8 ...\n",
      " $ compression.ratio: num  9 9 9 10 8 8.5 8.5 8.5 8.3 8.8 ...\n",
      " $ horsepower       : num  111 111 154 102 115 110 110 110 140 101 ...\n",
      " $ peak.rpm         : num  5000 5000 5000 5500 5500 5500 5500 5500 5500 5800 ...\n",
      " $ city.mpg         : int  21 21 19 24 18 19 19 19 17 23 ...\n",
      " $ highway.mpg      : int  27 27 26 30 22 25 25 25 20 29 ...\n",
      " $ price            : num  13495 16500 16500 13950 17450 ...\n"
     ]
    }
   ],
   "source": [
    "str(auto_prices)"
   ]
  },
  {
   "cell_type": "markdown",
   "metadata": {},
   "source": [
    "These results confirm the earlier operations.  \n",
    "\n",
    "Execute the code in the cell below to print a summary of the columns of the data frame and examine the results."
   ]
  },
  {
   "cell_type": "code",
   "execution_count": 5,
   "metadata": {
    "scrolled": false
   },
   "outputs": [
    {
     "data": {
      "text/plain": [
       "     make            fuel.type          aspiration        num.of.doors      \n",
       " Length:195         Length:195         Length:195         Length:195        \n",
       " Class :character   Class :character   Class :character   Class :character  \n",
       " Mode  :character   Mode  :character   Mode  :character   Mode  :character  \n",
       "                                                                            \n",
       "                                                                            \n",
       "                                                                            \n",
       "  body.style        drive.wheels       engine.location      wheel.base   \n",
       " Length:195         Length:195         Length:195         Min.   : 86.6  \n",
       " Class :character   Class :character   Class :character   1st Qu.: 94.5  \n",
       " Mode  :character   Mode  :character   Mode  :character   Median : 97.0  \n",
       "                                                          Mean   : 98.9  \n",
       "                                                          3rd Qu.:102.4  \n",
       "                                                          Max.   :120.9  \n",
       "     length          width           height       curb.weight  \n",
       " Min.   :141.1   Min.   :60.30   Min.   :47.80   Min.   :1488  \n",
       " 1st Qu.:166.3   1st Qu.:64.05   1st Qu.:52.00   1st Qu.:2145  \n",
       " Median :173.2   Median :65.40   Median :54.10   Median :2414  \n",
       " Mean   :174.3   Mean   :65.89   Mean   :53.86   Mean   :2559  \n",
       " 3rd Qu.:184.1   3rd Qu.:66.90   3rd Qu.:55.65   3rd Qu.:2944  \n",
       " Max.   :208.1   Max.   :72.00   Max.   :59.80   Max.   :4066  \n",
       " engine.type        num.of.cylinders    engine.size    fuel.system       \n",
       " Length:195         Length:195         Min.   : 61.0   Length:195        \n",
       " Class :character   Class :character   1st Qu.: 98.0   Class :character  \n",
       " Mode  :character   Mode  :character   Median :120.0   Mode  :character  \n",
       "                                       Mean   :127.9                     \n",
       "                                       3rd Qu.:145.5                     \n",
       "                                       Max.   :326.0                     \n",
       "      bore           stroke     compression.ratio   horsepower   \n",
       " Min.   :2.540   Min.   :2.07   Min.   : 7.00     Min.   : 48.0  \n",
       " 1st Qu.:3.150   1st Qu.:3.11   1st Qu.: 8.50     1st Qu.: 70.0  \n",
       " Median :3.310   Median :3.29   Median : 9.00     Median : 95.0  \n",
       " Mean   :3.329   Mean   :3.25   Mean   :10.19     Mean   :103.3  \n",
       " 3rd Qu.:3.590   3rd Qu.:3.41   3rd Qu.: 9.40     3rd Qu.:116.0  \n",
       " Max.   :3.940   Max.   :4.17   Max.   :23.00     Max.   :262.0  \n",
       "    peak.rpm       city.mpg      highway.mpg        price      \n",
       " Min.   :4150   Min.   :13.00   Min.   :16.00   Min.   : 5118  \n",
       " 1st Qu.:4800   1st Qu.:19.50   1st Qu.:25.00   1st Qu.: 7756  \n",
       " Median :5100   Median :25.00   Median :30.00   Median :10245  \n",
       " Mean   :5099   Mean   :25.37   Mean   :30.84   Mean   :13248  \n",
       " 3rd Qu.:5500   3rd Qu.:30.00   3rd Qu.:35.00   3rd Qu.:16509  \n",
       " Max.   :6600   Max.   :49.00   Max.   :54.00   Max.   :45400  "
      ]
     },
     "metadata": {},
     "output_type": "display_data"
    }
   ],
   "source": [
    "summary(auto_prices)"
   ]
  },
  {
   "cell_type": "markdown",
   "metadata": {},
   "source": [
    "There is a lot of information here for the numeric columns. For each column the following is printed:\n",
    "-  The `count` of the cases in the column. In this case, all counts are the same. \n",
    "\n",
    "\n",
    "- The `mean` and `tandard deviation` of the values in the column. Notice that there is a wide range of mean values across these columns. \n",
    "\n",
    "\n",
    "- The `minimum` and `maximum` of the values in the column. Again, the extreme range of these columns varies quite a lot. \n",
    "\n",
    "\n",
    "- The `quartiles` are displayed, 1st Quantile (25%), median value (50%), and 3rd Quantile (75%). For many of these columns, such as curb_weight and the label value, price, there is a significant difference between the mean and the median values. When the median value is less than the mean, this indicates that the distribution is right-skewed, that is, with a tail stretching toward the right.\n",
    "\n",
    "Unfortunately `Summary` does not compute **standard deviation**. Execute the code in the cell below to compute and print the standard deviation of the numeric columns."
   ]
  },
  {
   "cell_type": "code",
   "execution_count": 6,
   "metadata": {},
   "outputs": [
    {
     "name": "stdout",
     "output_type": "stream",
     "text": [
      "wheel.base 6.13 \n",
      "length 12.48 \n",
      "width 2.13 \n",
      "height 2.4 \n",
      "curb.weight 524.72 \n",
      "engine.size 41.43 \n",
      "bore 0.27 \n",
      "stroke 0.31 \n",
      "compression.ratio 4.06 \n",
      "horsepower 37.87 \n",
      "peak.rpm 468.27 \n",
      "city.mpg 6.4 \n",
      "highway.mpg 6.83 \n",
      "price 8056.33 \n"
     ]
    }
   ],
   "source": [
    "for(col in colnames(auto_prices)){\n",
    "    if(is.numeric(auto_prices[,col])){\n",
    "        cat(paste(col, as.character(round(sd(auto_prices[,col]), 2)), '\\n'))\n",
    "    }\n",
    "}"
   ]
  },
  {
   "cell_type": "markdown",
   "metadata": {},
   "source": [
    "You can see there is a wide range of scale for these numeric variables. \n",
    "\n",
    "Now, you will consider how you can understand the distributions of categorical variables. A single line of code computes and displays a **frequency table** using the R `table` function. A frequency table shows the frequency of each unique category of a categorical variable.  \n",
    "\n",
    "The code in the cell prints frequency table for a each categorical column. The `is.character` function is used to identify the categorical (character) variables. Execute this code and examine the results."
   ]
  },
  {
   "cell_type": "code",
   "execution_count": 7,
   "metadata": {},
   "outputs": [
    {
     "name": "stdout",
     "output_type": "stream",
     "text": [
      "\n",
      "Frequency table for make\n",
      "  alfa-romero          audi           bmw     chevrolet         dodge \n",
      "            3             6             8             3             9 \n",
      "        honda         isuzu        jaguar         mazda mercedes-benz \n",
      "           13             2             3            13             8 \n",
      "      mercury    mitsubishi        nissan        peugot      plymouth \n",
      "            1            13            18            11             7 \n",
      "      porsche          saab        subaru        toyota    volkswagen \n",
      "            4             6            12            32            12 \n",
      "        volvo \n",
      "           11 \n",
      "\n",
      "Frequency table for fuel.type\n",
      "diesel    gas \n",
      "    20    175 \n",
      "\n",
      "Frequency table for aspiration\n",
      "  std turbo \n",
      "  159    36 \n",
      "\n",
      "Frequency table for num.of.doors\n",
      "   ? four  two \n",
      "   2  112   81 \n",
      "\n",
      "Frequency table for body.style\n",
      "convertible     hardtop   hatchback       sedan       wagon \n",
      "          6           8          63          94          24 \n",
      "\n",
      "Frequency table for drive.wheels\n",
      "4wd fwd rwd \n",
      "  8 116  71 \n",
      "\n",
      "Frequency table for engine.location\n",
      "front  rear \n",
      "  192     3 \n",
      "\n",
      "Frequency table for engine.type\n",
      "dohc    l  ohc ohcf ohcv \n",
      "  12   12  143   15   13 \n",
      "\n",
      "Frequency table for num.of.cylinders\n",
      " eight   five   four    six  three twelve \n",
      "     4     10    155     24      1      1 \n",
      "\n",
      "Frequency table for fuel.system\n",
      "1bbl 2bbl  idi  mfi mpfi spdi spfi \n",
      "  11   64   20    1   89    9    1 \n"
     ]
    }
   ],
   "source": [
    "for(col in colnames(auto_prices)){\n",
    "    if(is.character(auto_prices[, col])){\n",
    "        cat('\\n')\n",
    "        cat(paste('Frequency table for', col))\n",
    "        print(table(auto_prices[, col]))\n",
    "    }    \n",
    "}"
   ]
  },
  {
   "cell_type": "markdown",
   "metadata": {},
   "source": [
    "There are some basic facts you can derive from these frequency tables. \n",
    "1. **Some of these variables have a large number of categories**. **<font color=red>When performing machine learning with a limited size training dataset, having a large number of categories is problematic</font>**, since there will be **few samples per category**. For example, notice how many auto makes are represented. There is only 1 Mercury and 2 Isuzus. Thus, any statistical property for these categories will be poorly determined. \n",
    "\n",
    "\n",
    "2. **There are significant imbalances in the counts of some categories**. You have already seen that there are significant differences in the counts of autos by make. As another example, there are only 3 cars with rear engine autos. Again, any statistical property of rear engine cars will be poorly determined.\n",
    "\n",
    "\n",
    "3. **Some categorical variables could reasonably converted to numeric variables**. For example, the `number of cylinders` is currently a categorical variable, but could be transformed to a numeric variable. \n",
    "\n",
    "***\n",
    "**Note:** There are two other cases to consider with the **transformations between numeric and categorical variables**.\n",
    "1. Some categorical variables indicate rank, for example large, medium and small. In these cases, it may be better to transform these values to numeric levels.\n",
    "\n",
    "\n",
    "2. Just as it might be useful to transform a categorical variable to numeric, it may be advantageous to convert a numeric variable to a categorical variable. This is particularly the case if the numeric values are simply coding for a category with no particular meaning.  \n",
    "***"
   ]
  },
  {
   "cell_type": "markdown",
   "metadata": {},
   "source": [
    "## Visualizing Automobile Data for Regression\n",
    "The R `ggplot2` package provides extensive graphical capabilities. `ggplot2` abstracts many low level plotting details and allows you to create high quality plots with minimal coding. These features make `ggplot2` a powerful package to create visualizations of your data when exploring relationships between the data features.  Further, you can identify features that may be useful for predicting labels in machine learning projects."
   ]
  },
  {
   "cell_type": "markdown",
   "metadata": {},
   "source": [
    "## Visualizing distributions\n",
    "\n",
    "With some basic understanding of the data set in mind, it is time to dig a bit deeper. In this section you will apply methods to explore the distributions of categorical and numeric data.\n",
    "\n",
    "### Bar charts\n",
    "\n",
    "As a first step, you will use **bar charts** to examine the frequency distributions of categorical variables. A bar chart displays frequencies of each category. \n",
    "\n",
    "Execute the function in the cell below to perform the following processing:\n",
    "1. Iterates over the list of columns.\n",
    "2. A filter is applied to find character (categorical) columns. \n",
    "3. The bar plot is created using the ggpot2 `geom_bar` plot type. \n",
    "\n",
    "Notice the use of `aes_string` to specify a column as a string variable. In addition, the `print` function is used to display the plot from inside the function. If this is not done, no plot will be displayed. \n",
    "\n",
    "Execute this code and examine the results."
   ]
  },
  {
   "cell_type": "code",
   "execution_count": 8,
   "metadata": {
    "scrolled": false
   },
   "outputs": [
    {
     "data": {
      "image/png": "[encoded data removed]",
      "text/plain": [
       "plot without title"
      ]
     },
     "metadata": {},
     "output_type": "display_data"
    },
    {
     "data": {
      "image/png": "[encoded data removed]",
      "text/plain": [
       "plot without title"
      ]
     },
     "metadata": {},
     "output_type": "display_data"
    },
    {
     "data": {
      "image/png": "[encoded data removed]",
      "text/plain": [
       "plot without title"
      ]
     },
     "metadata": {},
     "output_type": "display_data"
    },
    {
     "data": {
      "image/png": "[encoded data removed]",
      "text/plain": [
       "plot without title"
      ]
     },
     "metadata": {},
     "output_type": "display_data"
    },
    {
     "data": {
      "image/png": "[encoded data removed]",
      "text/plain": [
       "plot without title"
      ]
     },
     "metadata": {},
     "output_type": "display_data"
    },
    {
     "data": {
      "image/png": "[encoded data removed]",
      "text/plain": [
       "plot without title"
      ]
     },
     "metadata": {},
     "output_type": "display_data"
    },
    {
     "data": {
      "image/png": "[encoded data removed]",
      "text/plain": [
       "plot without title"
      ]
     },
     "metadata": {},
     "output_type": "display_data"
    },
    {
     "data": {
      "image/png": "[encoded data removed]",
      "text/plain": [
       "plot without title"
      ]
     },
     "metadata": {},
     "output_type": "display_data"
    },
    {
     "data": {
      "image/png": "[encoded data removed]",
      "text/plain": [
       "plot without title"
      ]
     },
     "metadata": {},
     "output_type": "display_data"
    },
    {
     "data": {
      "image/png": "[encoded data removed]",
      "text/plain": [
       "plot without title"
      ]
     },
     "metadata": {},
     "output_type": "display_data"
    }
   ],
   "source": [
    "plot_bars = function(df){\n",
    "    options(repr.plot.width=4, repr.plot.height=3.5) # Set the initial plot area dimensions\n",
    "    for(col in colnames(df)){\n",
    "        if(is.character(df[,col])){\n",
    "            p = ggplot(df, aes_string(col)) + \n",
    "                       geom_bar(alpha = 0.6) + \n",
    "                       theme(axis.text.x = element_text(angle = 90, hjust = 1))\n",
    "            print(p)\n",
    "        }\n",
    "    }\n",
    "}\n",
    "\n",
    "plot_bars(auto_prices)"
   ]
  },
  {
   "cell_type": "markdown",
   "metadata": {},
   "source": [
    "These plots show the wide range of frequencies for the categorical variables plotted. This will be a problem with modeling, as there are so few members of some classes. "
   ]
  },
  {
   "cell_type": "markdown",
   "metadata": {},
   "source": [
    "### Histograms\n",
    "\n",
    "**Histograms** are related to bar plots. Whereas, a bar plot shows the counts of unique categories, a histogram shows the **number of data values within a bin** for a **numeric variable**. The bins divide the values of the variable into equal segments. The vertical axis of the histogram shows the count of data values within each bin.  \n",
    "\n",
    "The code below follows the same basic recipe used for the bar plot to create a histogram. In this case, the ggplot2 `geom_hist` method is used. \n",
    "\n",
    "Execute this code, examine the results, and answer **<font color=red>Question 1</font>** on the course page.\n",
    "\n",
    "***\n",
    "Q1: What can you conclude from the plotted histograms?\n",
    "- There are more cars with high miles per gallon than low miles per gallon\n",
    "- Most of the cars have larger than 3000 curb weight\n",
    "- There are only a few cars with engine size lower than 150\n",
    "- **Most of the cars cost less than 30,000**\n",
    "***"
   ]
  },
  {
   "cell_type": "code",
   "execution_count": null,
   "metadata": {
    "scrolled": false
   },
   "outputs": [],
   "source": [
    "plot_hist = function(df, numcols, bins = 10){\n",
    "    options(repr.plot.width=4, repr.plot.height=3) # Set the initial plot area dimensions\n",
    "    for(col in numcols){\n",
    "        if(is.numeric(df[,col])){\n",
    "            bw = (max(df[,col]) - min(df[,col]))/(bins + 1)\n",
    "            p = ggplot(df, aes_string(col)) + \n",
    "                       geom_histogram(alpha = 0.6, binwidth = bw) \n",
    "            print(p)\n",
    "        }\n",
    "    }\n",
    "}\n",
    "\n",
    "numcols = c('curb.weight', 'engine.size', 'horsepower', 'city.mpg', 'price')\n",
    "plot_hist(auto_prices, numcols)"
   ]
  },
  {
   "cell_type": "markdown",
   "metadata": {},
   "source": [
    "Some of these variables have distributions that are right-skewed, or skewed to the right side. **Note that skewed distribution will affect the statistics of any machine learning model**."
   ]
  },
  {
   "cell_type": "markdown",
   "metadata": {},
   "source": [
    "### Kernel density plots \n",
    "\n",
    "**Kernel density estimation** (**kde**) plots are similar in concept to a histogram. It **displays the values of a smoothed density curve of the data values**. In other words, the kernel density plot is a smoothed version of a histogram.\n",
    " \n",
    "The code in the cell below creates a kernel density plot following the recipe used before. There is one other addition, a **'rug'**, which shows the location of the data points is added."
   ]
  },
  {
   "cell_type": "code",
   "execution_count": null,
   "metadata": {
    "scrolled": false
   },
   "outputs": [],
   "source": [
    "plot_dist = function(df, numcols){\n",
    "    options(repr.plot.width=4, repr.plot.height=3) # Set the initial plot area dimensions\n",
    "    for(col in numcols){\n",
    "        if(is.numeric(df[,col])){\n",
    "            p = ggplot(df, aes_string(col)) + \n",
    "                       geom_density(color = 'blue') +\n",
    "                       geom_rug()\n",
    "            print(p)\n",
    "        }\n",
    "    }\n",
    "}\n",
    "\n",
    "plot_dist(auto_prices, numcols)"
   ]
  },
  {
   "cell_type": "markdown",
   "metadata": {},
   "source": [
    "The kde plots show the same skewness properties of the histogram. The rug shows a different view of the density of the data points on the axis. Some details are more evident in this view.  \n",
    "\n",
    "### Combine histograms and kdes\n",
    "\n",
    "Combining a histogram and a kde can highlight different aspects of a distribution. This is easy to do with ggplot2, as the code below demonstrates. In this case, the number of bins for the histogram has been increased from 10 to 20. \n",
    "\n",
    "Execute this code, examine the results, and answer **<font color=red>Question 2</font>** on the course page.\n",
    "\n",
    "***\n",
    "Q2: From the kde plots, which feature shows the closest resemblance, in terms of distribution, to price?\n",
    "\n",
    "Ans: curb_weight / **engine_size** / city_mpg\n",
    "***"
   ]
  },
  {
   "cell_type": "code",
   "execution_count": null,
   "metadata": {
    "scrolled": false
   },
   "outputs": [],
   "source": [
    "plot_hist_dens = function(df, numcols, bins = 10){\n",
    "    options(repr.plot.width=4, repr.plot.height=3) # Set the initial plot area dimensions\n",
    "    for(col in numcols){\n",
    "        if(is.numeric(df[,col])){\n",
    "            bw = (max(df[,col]) - min(df[,col]))/(bins + 1)\n",
    "            p = ggplot(df, aes_string(col)) + \n",
    "                       geom_histogram(binwidth = bw, aes(y=..density..), alpha = 0.5) +\n",
    "                       geom_density(aes(y=..density..), color = 'blue') + \n",
    "                       geom_rug()\n",
    "            print(p)\n",
    "        }\n",
    "    }\n",
    "}\n",
    "\n",
    "plot_hist_dens(auto_prices, numcols)    "
   ]
  },
  {
   "cell_type": "markdown",
   "metadata": {},
   "source": [
    "This view highlights the fact that curb weight and city MPG are multi-modal distributions. This fact, will have implications for the statistics of any machine learning model trained with these data."
   ]
  },
  {
   "cell_type": "markdown",
   "metadata": {},
   "source": [
    "## Two dimensional plots\n",
    "\n",
    "Having used summary statistics and several one dimensional plot methods to explore data, you will continue this exploration using **two dimensional plots**. Two dimensional plots help you develop an understanding  of the **relationship between two variables**. For machine learning, the relationship of greatest interest is between the **features** and the **label**. It can also be useful to examine the relationships between features to determine if the features are co-variate or not. Such a procedure can prove more reliable than simply computing correlation when the relationship is nonlinear. \n",
    "\n",
    "### Create Scatter Plots\n",
    "\n",
    "Scatter plots are widely used to examine the relationship between two variables. In this case, the plots created are of some features vs. the label, price of the auto. \n",
    "\n",
    "The code in the cell below follows the previously used recipe for using the ggplot2 `geom_scatter` function. Execute this code and examine the results."
   ]
  },
  {
   "cell_type": "code",
   "execution_count": null,
   "metadata": {
    "scrolled": false
   },
   "outputs": [],
   "source": [
    "plot_scatter = function(df, cols, col_y = 'price'){\n",
    "    options(repr.plot.width=4, repr.plot.height=3.5) # Set the initial plot area dimensions\n",
    "    for(col in cols){\n",
    "        p = ggplot(df, aes_string(col, col_y)) + \n",
    "                   geom_point() +\n",
    "                   ggtitle(paste('Scatter plot of', col_y, 'vs.', col))\n",
    "        print(p)\n",
    "    }\n",
    "}\n",
    "\n",
    "numcols = c('curb.weight', 'engine.size', 'horsepower', 'city.mpg')\n",
    "plot_scatter(auto_prices, numcols)"
   ]
  },
  {
   "cell_type": "markdown",
   "metadata": {},
   "source": [
    "These plots show a strong relationship between these features and the label. It is likely these features will be useful in predicting the price of autos. Engine size and horsepower have fairly linear relationships with price, whereas curb weight and especially city MPG do not. \n",
    "\n",
    "It seems likely that horsepower and engine size are collinear. To test this hypothesis execute the code in the cell below and examine the result."
   ]
  },
  {
   "cell_type": "code",
   "execution_count": null,
   "metadata": {},
   "outputs": [],
   "source": [
    "plot_scatter(auto_prices, c('horsepower'), 'engine.size') "
   ]
  },
  {
   "cell_type": "markdown",
   "metadata": {},
   "source": [
    "Indeed these features do appear linearly dependent. Therefore, you will not want to use them in the same machine learning model. "
   ]
  },
  {
   "cell_type": "markdown",
   "metadata": {},
   "source": [
    "### Deal with overplotting\n",
    "\n",
    "Examine the engine size or city MPG vs price above. Notice, that for certain engine sizes and city MPG ratings there are numerous autos in a narrow price range. Apparently, auto manufactures target these characteristics. The result is that many points are plotted one over the other on the scatter plots, resulting in **over plotting**. Over plotting is a serious problem when scatter plots are applied to large datasets. Serious over plotting can render a plot meaningless or uninterpretable. \n",
    "\n",
    "Fortunately, there are **several good ways to deal with over plotting**:\n",
    "1. Use **transparency** of the points to allow the view to see though points. With mild over plotting this approach can be quite effective.\n",
    "\n",
    "\n",
    "2. **Contour plots** or **2d density plots** show the density of points, such as a topographic map shows elevation. Generating the contours has high computational complexity and making this method unsuitable for massive datasets.\n",
    "\n",
    "\n",
    "3. **Hexbin plots** are the two-dimensional analog of a histogram. The density of the shading in the hexagonal cells indicates the density of points. Generating hexbins is computationally efficient and can be applied to massive datasets.\n",
    "\n",
    "The code in the cell below modifies the scatter plot function used previously to add a transparency argument. In statistical graphics alpha, the inverse of transparency is specified; `alpha = 1.0` is opaque, `alpha = 0.0` is perfectly transparent. The code in the cell below uses low alpha of 0.2 (high transparency). Execute this code and examine the results. "
   ]
  },
  {
   "cell_type": "code",
   "execution_count": null,
   "metadata": {
    "scrolled": false
   },
   "outputs": [],
   "source": [
    "plot_scatter_t = function(df, cols, col_y = 'price', alpha = 1.0){\n",
    "    options(repr.plot.width=4, repr.plot.height=3.5) # Set the initial plot area dimensions\n",
    "    for(col in cols){\n",
    "        p = ggplot(df, aes_string(col, col_y)) + \n",
    "                   geom_point(alpha = alpha) +\n",
    "                   ggtitle(paste('Scatter plot of', col_y, 'vs.', col))\n",
    "        print(p)\n",
    "    }\n",
    "}\n",
    "\n",
    "plot_scatter_t(auto_prices, numcols, alpha = 0.2)"
   ]
  },
  {
   "cell_type": "markdown",
   "metadata": {},
   "source": [
    "With the high transparency it is now possible to see though points in dense areas to get a better view of the data. \n",
    "\n",
    "Using transparency for over-plotting is useful, but limited. With large number of points, you will need other methods. Using *contour* or *2d density* plots is one such solution.\n",
    "\n",
    "The code in the cell below uses the `geom_density_2d` function from ggplot2 to display a contour plot of point density. The points are also displayed with `geom_scatter` as before. Execute this code and examine the results."
   ]
  },
  {
   "cell_type": "code",
   "execution_count": null,
   "metadata": {},
   "outputs": [],
   "source": [
    "plot_2density = function(df, cols, col_y = 'price', alpha = 1.0){\n",
    "    options(repr.plot.width=4, repr.plot.height=3.5) # Set the initial plot area dimensions\n",
    "    for(col in cols){\n",
    "        p = ggplot(df, aes_string(col, col_y)) + \n",
    "                   geom_density_2d() +\n",
    "                   geom_point(alpha = alpha) +\n",
    "                   ggtitle(paste('2-D density plot of', col_y, 'vs.', col))\n",
    "        print(p)\n",
    "    }\n",
    "}\n",
    "\n",
    "plot_2density(auto_prices, numcols, alpha = 0.2)"
   ]
  },
  {
   "cell_type": "markdown",
   "metadata": {},
   "source": [
    "These density contour plots show quite a different view of the relationship between these features and the label. In particular, 2d multi-modal behavior is visible for curb weight, horsepower and particularly city MPG. \n",
    "\n",
    "The code in the cell below displays the 2d hexbin plots and 1d histograms for the same variables. Execute this code and examine the results."
   ]
  },
  {
   "cell_type": "code",
   "execution_count": null,
   "metadata": {
    "scrolled": false
   },
   "outputs": [],
   "source": [
    "plot_hex = function(df, cols, col_y = 'price', bins = 30){\n",
    "    options(repr.plot.width=4, repr.plot.height=3.5) # Set the initial plot area dimensions\n",
    "    for(col in cols){\n",
    "        p = ggplot(df, aes_string(col, col_y)) + \n",
    "                   geom_hex(show.legend = TRUE, bins = bins) +\n",
    "                   ggtitle(paste('2-D hexbin plot of', col_y, 'vs.', col))\n",
    "        print(p)\n",
    "    }\n",
    "}\n",
    "\n",
    "plot_hex(auto_prices, numcols, bins = 10)"
   ]
  },
  {
   "cell_type": "markdown",
   "metadata": {},
   "source": [
    "The overall impression from the hexbin plot approximately the same as for the contour plots. A bit more detail is visible since cells with as few as 1 point are displayed. "
   ]
  },
  {
   "cell_type": "markdown",
   "metadata": {},
   "source": [
    "### Relation between categorical and numeric variables\n",
    "\n",
    "You have created 2d plots of numeric variables. But, what can you do if some of the features are categorical variables? \n",
    "\n",
    "There are two plot types specifically intended for this situation:\n",
    "1. **Box plots** which highlight the quartiles of a distribution. Not surprisingly, the box plot contains a box. The range of the **inner two quartiles** are contained within the box. The length of the box shows the **interquartile range**. A line within the box shows the median. **Whiskers** extend for the maximum of 1.5 times the interquartile range or the extreme value of the data. Outliers beyond the whiskers are shown in a symbol. \n",
    "\n",
    "\n",
    "2. **Violin plots** which are a variation on the 1d KDE plot. Two back-to-back KDE curves are used to show the *density estimate*. \n",
    "\n",
    "Box plots and violin plots can be arranged side-by-side with data of the numerical variable grouped by the categories of the categorical variable. In this way each box or violin display represents the value of the numeric variable for cases of each category of the categorical variable.\n",
    "\n",
    "Execute the code in the cell below to display box plots for the list of categorical variables, and examine the results. "
   ]
  },
  {
   "cell_type": "code",
   "execution_count": null,
   "metadata": {
    "scrolled": false
   },
   "outputs": [],
   "source": [
    "plot_box = function(df, cols, col_y = 'price'){\n",
    "    options(repr.plot.width=4, repr.plot.height=3.5) # Set the initial plot area dimensions\n",
    "    for(col in cols){\n",
    "        p = ggplot(df, aes_string(col, col_y)) + \n",
    "                   geom_boxplot() +\n",
    "                   ggtitle(paste('Box plot of', col, 'vs.', col_y))\n",
    "        print(p)\n",
    "    }\n",
    "}\n",
    "\n",
    "cat_cols = c('fuel.type', 'aspiration', 'num.of.doors', 'body.style', \n",
    "            'drive.wheels', 'engine.location', 'engine.type', 'num.of.cylinders')\n",
    "plot_box(auto_prices, cat_cols)  "
   ]
  },
  {
   "cell_type": "markdown",
   "metadata": {},
   "source": [
    "For each categorical variable, you can see that a box plot is created for each unique category. Notice that for some of these cases, there are some noticeable differences between the price of autos by category. For example, for fuel type or aspiration there are noticeable differences.\n",
    "\n",
    "In other cases, such as number of doors, the differences do not appear significant. For number of cylinders there are significant differences, but there are two categories with only one case, which is problematic. \n",
    "\n",
    "The code in the cell below creates a similar display as above using violin plots. Execute the code and examine the results. "
   ]
  },
  {
   "cell_type": "code",
   "execution_count": null,
   "metadata": {
    "scrolled": false
   },
   "outputs": [],
   "source": [
    "plot_violin = function(df, cols, col_y = 'price', bins = 30){\n",
    "    options(repr.plot.width=4, repr.plot.height=3.5) # Set the initial plot area dimensions\n",
    "    for(col in cols){\n",
    "        p = ggplot(df, aes_string(col, col_y)) + \n",
    "                   geom_violin() +\n",
    "                   ggtitle(paste('Violin plot of', col, 'vs.', col_y))\n",
    "        print(p)\n",
    "    }\n",
    "}\n",
    "\n",
    "plot_violin(auto_prices, cat_cols)  "
   ]
  },
  {
   "cell_type": "markdown",
   "metadata": {},
   "source": [
    "The interpretation of the violin plots is similar to the box plots. However, a bit more detail of the distributions is visible. The area of each violin is the same on each plot display. Notice also that a type of box plot is visible inside each violin plot. \n",
    "\n",
    "As you examine the above plots notice that some relationships are more obvious. For example, it quite clear that the number of doors does not affect the price of the car and the body style as marginal influence at best. Whereas, engine location and number of cylinders does affect price.  "
   ]
  },
  {
   "cell_type": "markdown",
   "metadata": {},
   "source": [
    "## Use aesthetics to add project additional dimensions\n",
    "\n",
    "Up until now, you have work with one or two variables on a single plot. But, with complex datasets it is useful to view multiple dimensions on each plot. The question is, how can this be done when graphics displays are limited to two dimensions? \n",
    "\n",
    "In this section, **plot aesthetics** are used to project additional dimensions. Some aesthetics are useful only for categorical variables, while others are useful for numeric variables. Keep in mind that not all plot aesthetics are equally effective. <font color=blue>Tests of human perceptions have shown that people are very good as noticing small differences in position</font>. This fact explains why `scatter plots` are so effective.\n",
    "\n",
    "In rough order of effectiveness, these aesthetics are:\n",
    "1. **Marker shape** is an effective indicator variable category. It is critical to select shapes which are easily distinguished by the viewer. \n",
    "\n",
    "\n",
    "2. **Marker size** shows values of a numeric variable. Be careful, as size is the span across the marker, not the area. \n",
    "\n",
    "\n",
    "3. **Marker color** is useful as an indicator of variable category. Color is the least effective of these three aesthetics in terms of human perception. Colors should be chosen to appear distinct. Additionally, keep in mind that many people, particularly men are red-green color blind. \n",
    "\n",
    "Categorical aesthetics, such as marker shape and color, are only effective if the differences in markers are perceptible. Using too many shapes or color creates a situation where the viewer cannot tell the differences between the categories. Typically a limit of about five to seven categories should be observed. \n",
    "\n",
    "\n",
    "### Marker shape\n",
    "\n",
    "The code in the cell below uses marker shape to show the fuel type of the auto on a scatter plot. Notice that the `shape` aesthetic must be wrapped in the  `factor` function inside a call to `aes`. Execute this code and examine the result. "
   ]
  },
  {
   "cell_type": "code",
   "execution_count": null,
   "metadata": {},
   "outputs": [],
   "source": [
    "plot_scatter_sp = function(df, cols, col_y = 'price', alpha = 1.0){\n",
    "    options(repr.plot.width=5, repr.plot.height=3.5) # Set the initial plot area dimensions\n",
    "    for(col in cols){\n",
    "        p = ggplot(df, aes_string(col, col_y)) + \n",
    "                   geom_point(aes(shape = factor(fuel.type)), alpha = alpha) +\n",
    "                   ggtitle(paste('Scatter plot of', col_y, 'vs.', col, '\\n with shape by fuel type'))\n",
    "        print(p)\n",
    "    }\n",
    "}\n",
    "\n",
    "plot_scatter_sp(auto_prices, numcols, alpha = 0.2)"
   ]
  },
  {
   "cell_type": "markdown",
   "metadata": {},
   "source": [
    "While there is some overlap, the differences between gas and diesel autos are now apparent in these plots. This new view of the data helps to confirm and fuel type is a significant feature for determining auto price. \n",
    "\n",
    "Notice that rather distinctive shapes have been chosen for this display. In summary, by adding shape by category a **third dimension** is projected onto these plots.\n",
    "\n",
    "### Marker size\n",
    "\n",
    "The code in the cell below uses marker size to display curb weight. Since ggplot2 uses area to compute  marker size, the values of curb weight are squared. The larger markers lead to more over-plotting, so lower alpha value is used. Execute this code and examine the results. "
   ]
  },
  {
   "cell_type": "code",
   "execution_count": null,
   "metadata": {
    "scrolled": false
   },
   "outputs": [],
   "source": [
    "plot_scatter_sp_sz = function(df, cols, col_y = 'price', alpha = 1.0){\n",
    "    options(repr.plot.width=5, repr.plot.height=3.5) # Set the initial plot area dimensions\n",
    "    df$curb.weight.2 = df$curb.weight**2\n",
    "    for(col in cols){\n",
    "        p = ggplot(df, aes_string(col, col_y)) + \n",
    "                   geom_point(aes(shape = factor(fuel.type), size = curb.weight.2), alpha = alpha) +\n",
    "                   ggtitle(paste('Scatter plot of', col_y, 'vs.', col, '\\n with shape by fuel type'))\n",
    "        print(p)\n",
    "    }\n",
    "}\n",
    "\n",
    "plot_scatter_sp_sz(auto_prices, numcols, alpha = 0.1)"
   ]
  },
  {
   "cell_type": "markdown",
   "metadata": {},
   "source": [
    "There are several interesting aspects of these plots, each of which is useful in predicting the price of autos For diesel autos the relationship between curb weight, price, engine size, horsepower and city MPG. On the other hand, it appears that *<font color=blue>high price, large engine, high horsepower, and low city MPG cars have large gas engines</font>*. \n",
    "\n",
    "The above plots are now projecting **four dimensions** on the 2d plot surface. \n",
    "\n",
    "### Color\n",
    "\n",
    "As was already discussed, changes in color are  hard for many people to perceive. None the less, color is useful for projecting a limited number of categories of a variable. Choice of distinctive color helps this situation. \n",
    "\n",
    "The code in the cell below uses color to display the aspiration category of the auto. Execute this code and examine the results. "
   ]
  },
  {
   "cell_type": "code",
   "execution_count": null,
   "metadata": {
    "scrolled": false
   },
   "outputs": [],
   "source": [
    "plot_scatter_sp_sz_cl = function(df, cols, col_y = 'price', alpha = 1.0){\n",
    "    options(repr.plot.width=5, repr.plot.height=3.5) # Set the initial plot area dimensions\n",
    "    df$curb.weight.2 = df$curb.weight**2\n",
    "    for(col in cols){\n",
    "        p = ggplot(df, aes_string(col, col_y)) + \n",
    "                   geom_point(aes(shape = factor(fuel.type), size = curb.weight.2, color = aspiration), \n",
    "                              alpha = alpha) +\n",
    "                   ggtitle(paste('Scatter plot of', col_y, 'vs.', col, \n",
    "                                 '\\n with shape by fuel type',\n",
    "                                 '\\n and color by aspiration'))\n",
    "        print(p)\n",
    "    }\n",
    "}\n",
    "\n",
    "plot_scatter_sp_sz_cl(auto_prices, numcols, alpha = 0.2)"
   ]
  },
  {
   "cell_type": "markdown",
   "metadata": {},
   "source": [
    "Each of these plots projects five dimensions of data onto the 2d display. Several relationship are now apparent in these data:\n",
    "\n",
    "In summary, **aspiration along with fuel type should be *useful predictors of price***. \n",
    "\n",
    "Now, answer **<font color=red>Question 3</font>** on the course page.\n",
    "\n",
    "***\n",
    "**Q3:** Select three relationships that are *now* (or **NOT?**) apparent in the scatter plots:\n",
    "- **Both gas and diesel turbo cars are generally more expensive than standard cars.**\n",
    "- **Turbo cars appear to have worse city_mpg at a given price point than standard cars.**\n",
    "- Standard cars generally has diesel engine.\n",
    "- **Turbo cars have greater horsepower at a given price point.**\n",
    "***"
   ]
  },
  {
   "cell_type": "markdown",
   "metadata": {},
   "source": [
    "#### Color (or hue) can be used in other types of plots.\n",
    "For example, the code in the cell below displays violin plots with color set by aspiration type. Execute this code and examine the results."
   ]
  },
  {
   "cell_type": "code",
   "execution_count": null,
   "metadata": {
    "scrolled": false
   },
   "outputs": [],
   "source": [
    "plot_violin = function(df, cols, col_y = 'price', bins = 30){\n",
    "    options(repr.plot.width=5, repr.plot.height=3.5) # Set the initial plot area dimensions\n",
    "    for(col in cols){\n",
    "        p = ggplot(df, aes_string(col, col_y)) + \n",
    "                   geom_violin(aes(fill = factor(aspiration))) +\n",
    "                   ggtitle(paste('Violin plot of', col, 'vs.', col_y, \n",
    "                                 '\\n with fill by aspiration'))\n",
    "        print(p)\n",
    "    }\n",
    "}\n",
    "\n",
    "plot_violin(auto_prices, cat_cols)  "
   ]
  },
  {
   "cell_type": "markdown",
   "metadata": {},
   "source": [
    "These plots show that autos with turbo aspiration are generally more expensive than the comparable standard car. Thus, aspiration should be a useful predictor of price. "
   ]
  },
  {
   "cell_type": "markdown",
   "metadata": {},
   "source": [
    "## Multi-axis views of data\n",
    "\n",
    "Up to now, you have been working with plots with a single pair of axes. However, it is quite possible to create powerful data visualizations with multiple axes. These methods allows you to examine the relationships between many variables in one view. These multiple views aid in understanding of the many relationships in complex datasets. There are a number of powerful multi-axes plot methods. In this lab you will work with two commonly applied methods:\n",
    "1. **Pair-wise scatter plots** or **scatter plot matrices** are an array of scatter plots with common axes along the rows and columns of the array. The diagonal of the array can be used to display distribution plots. The cells above or below the diagonal can be used for other plot types like contour density plots.\n",
    "2. **Conditioned plots**, **faceted plots** or **small multiple plots** use **group-by** operations to create and display subsets of the dataset. The display can be a one or two dimensional array organized by the groupings of the dataset. \n",
    "\n",
    "\n",
    "### Pair-wise scatter plot\n",
    "\n",
    "You will now apply a scatter plot matrix to the auto.price dataset. The code in the cell below uses the `ggpairs` function from the GGally package. This function creates a basic scatter plot matrix below the diagonal. Kernel density estimates of each variable are displayed on the diagonal. 2d density plots are displayed above the diagonal. Run the cell below to create a scatter plot matrix of the numeric features in the dataset.\n"
   ]
  },
  {
   "cell_type": "code",
   "execution_count": null,
   "metadata": {
    "scrolled": false
   },
   "outputs": [],
   "source": [
    "numcols = c('curb.weight', 'engine.size', 'horsepower', 'city.mpg', 'price')\n",
    "options(repr.plot.width=6, repr.plot.height=6) # Set the initial plot area dimensions\n",
    "ggpairs(auto_prices,\n",
    "      columns = numcols,\n",
    "      aes(color = fuel.type, alpha = 0.1),\n",
    "      lower = list(continuous = 'points'),\n",
    "      upper = list(continuous = ggally_density))"
   ]
  },
  {
   "cell_type": "markdown",
   "metadata": {},
   "source": [
    "Review the scatter ploy matrix (if the plot is too large for the cell, you can expand the cell by clicking its left margin).\n",
    "\n",
    "Note that this plot is comprised of a number of scatter plots. For each variable there is both a row and a column. The variable is plotted on the vertical axis in the row, and on the horizontal axis in the column. In this way, every combination of cross plots for all variables is displayed in both possible orientations. KDE plots for each variable are on the diagonal. Above the diagonal you can see contour plots of 2d density estimates. There is a lot of detail here. \n",
    "\n",
    "Examine the above scatter plot matrix, which shows plots of each numeric column verses every other numeric column, and note the following: \n",
    "- Many features show significant collinearity, such as horsepower, engine size and curb weight. This suggests that all of these features should not be used when training a machine learning model.\n",
    "- All of the features show a strong relationship with the label, price, such as city.mpg, engine.size, horsepower and curb.weight.\n",
    "- Several of these relationships are nonlinear, particularly the relationships with the city MPG feature.\n",
    "- There is distinctively different behavior for the diesel vs. gas cars. \n",
    "- Most of the variables have asymmetric distributions.\n",
    "\n",
    "Many of these relationships have been noted earlier. Having all this information on one plot can be useful. However, you may notice that some details are hard to see in such a display. \n",
    "\n",
    "**** \n",
    "**Note:** The number of scatter plots and the memory required to compute and display them can be a bit daunting. You may wish to make a scatter plot matrix with fewer columns. For example, you can eliminate columns which are collinear with other columns. \n",
    "****"
   ]
  },
  {
   "cell_type": "markdown",
   "metadata": {},
   "source": [
    "### Conditioned plots\n",
    "\n",
    "Now you will explore the use of conditioned plots. The code in the cell below uses the ggplot `facet_grid` function to define the rows and columns of the grid. This function uses the R modeling language to define the rows and columns of the plot array as follows:\n",
    "\n",
    "$$row\\ variables \\sim column\\ variables$$\n",
    "\n",
    "If you only wish to display columns the formula simplifies to:\n",
    "\n",
    "$$. \\sim column\\ variables$$\n",
    "\n",
    "Or, for only rows the formula looks like:\n",
    "\n",
    "$$row\\ variables \\sim .$$\n",
    "\n",
    "Execute the code and examine the results."
   ]
  },
  {
   "cell_type": "code",
   "execution_count": null,
   "metadata": {
    "scrolled": false
   },
   "outputs": [],
   "source": [
    "plot_hist_grid = function(df, numcols, bins = 10){\n",
    "    options(repr.plot.width=6, repr.plot.height=3) # Set the initial plot area dimensions\n",
    "    for(col in numcols){\n",
    "        if(is.numeric(df[,col])){\n",
    "            bw = (max(df[,col]) - min(df[,col]))/(bins + 1)\n",
    "            p = ggplot(df, aes_string(col)) + \n",
    "                       geom_histogram(binwidth = bw, aes(y=..density..), alpha = 0.5) +\n",
    "                       geom_density(aes(y=..density..), color = 'blue') + \n",
    "                       geom_rug() +\n",
    "                       facet_grid(. ~ drive.wheels)\n",
    "            print(p)\n",
    "        }\n",
    "    }\n",
    "}\n",
    "\n",
    "plot_hist_grid(auto_prices, numcols)    "
   ]
  },
  {
   "cell_type": "markdown",
   "metadata": {},
   "source": [
    "Examine this series of conditioned plots. There is a consistent difference in the distributions of the numeric features conditioned on the categories of drive_wheels.\n",
    "\n",
    "Now, answer **<font color=red>Question 4</font>** on the course page.\n",
    "***\n",
    "**Q4:** Select three relationships that are now apparent in the conditioned plots:\n",
    "- **The distribution of the values generally increases for length and curb_weight for real wheel drive (rwd) cars, with the values for 4 wheel drive (4wd) and real wheel drive (rwd) overlapping.**\n",
    "- Generally, 4wd cars have the highest engine size.\n",
    "- **Cars with fwd have the highest city_mpg, whereas, 4wd and rwd in a similar range.**\n",
    "- **Generally, 4wd cars have the lowest price, with rwd cars having the widest range.**\n",
    "***"
   ]
  },
  {
   "cell_type": "markdown",
   "metadata": {},
   "source": [
    "### Conditioned Scatter plots\n",
    "Next you will create and examine conditioned scatter plots. By conditioning multiple dimensions, you can project several additional dimensions onto the two-dimensional plot. The conditioning can be thought of as a group-by operation.\n",
    "\n",
    "You will not use point shape as a differentiator in this exercise, but keep in mind that shape can be as useful as color. Additionally, shape may be easier for the significant fraction of the population who are color blind. \n",
    "\n",
    "Note: Be careful when combining methods for projecting multiple dimensions. You can easily end up with a plot that is not only hard to interpret, but even harder for you to communicate your observations to your colleagues. For example, if you use three conditioning variables, plus color and shape, you are projecting seven dimensions of your dataset. While this approach might reveal important relationships, it may just create a complex plot. \n",
    "\n",
    "The code in the cell below uses the `facet_grid` function to create an array of plots grouped by drive wheels and body style. Execute this code and examine the results."
   ]
  },
  {
   "cell_type": "code",
   "execution_count": null,
   "metadata": {
    "scrolled": false
   },
   "outputs": [],
   "source": [
    "plot_scatter_grid = function(df, cols, col_y = 'price', alpha = 1.0){\n",
    "    options(repr.plot.width=7, repr.plot.height=5) # Set the initial plot area dimensions\n",
    "    for(col in cols){\n",
    "        p = ggplot(df, aes_string(col, col_y)) + \n",
    "                   geom_point(aes(color = fuel.type), alpha = alpha) +\n",
    "                   ggtitle(paste('Scatter plot of', col_y, 'vs.', col, \n",
    "                                 '\\n conditioned on drive wheels and body style',\n",
    "                                 '\\n with color by fuel type')) +\n",
    "                   facet_grid(drive.wheels ~ body.style)\n",
    "        print(p)\n",
    "    }\n",
    "}\n",
    "\n",
    "numcols = c('curb.weight', 'engine.size', 'horsepower', 'city.mpg')\n",
    "plot_scatter_grid(auto_prices, numcols, alpha = 0.2)"
   ]
  },
  {
   "cell_type": "markdown",
   "metadata": {},
   "source": [
    "Carefully examine the plots you have created. These plots show a total of five dimensions of the data and there is a lot of detail to understand.\n",
    "\n",
    "Generally, you should be able to conclude the following:\n",
    "- There are no cars at all for some combinations of conditioning variables. For example, there are no 4 wheel drive convertibles or hardtops. As a result these plots are blank. \n",
    "\n",
    "\n",
    "- There are no diesel cars for some of the conditioning combinations, such as convertibles and 4 wheel drive cars. \n",
    "\n",
    "\n",
    "- There are a number of distinct groupings. For example, front wheel drive and rear wheel drive sedans or wagons have distinctly different behaviors.   \n",
    "\n",
    "Again, many of these observations can be made with other types of plots. However, there is an advantage of laying these plots out in sub-groups of the datasets. Different sub-groupings of the data highlight different relationships of the data.\n",
    "\n",
    "Finally, answer **<font color=red>Question 5</font>** on the course page.\n",
    "***\n",
    "**Q5:** Which combination produces blank plots?\n",
    "- fwd and convertible\n",
    "- 4wd and hatchback\n",
    "- fwd and hardtop\n",
    "- **4wd and convertible**\n",
    "***"
   ]
  },
  {
   "cell_type": "markdown",
   "metadata": {},
   "source": [
    "## Summary\n",
    "\n",
    "By now, you should realize that exploring a dataset in detail is an open-ended and complex task. You may wish to try other combinations of conditioning variables, and color variable, to find some other interesting relationships in these data. Only by using multiple views with different plot types can you truly develop an understanding of relationships in complex data.\n",
    "\n",
    "A constant challenge in visualizing complex datasets is the limitation of 2d projections. Aesthetics and multiple axis methods allow projection of higher dimensions onto the 2d plot surface. \n",
    "\n",
    "**<font color=blue>Specifically in this lab you:**\n",
    "\n",
    "1. Used **summary statistics** to understand the basics of a data set.\n",
    "\n",
    "\n",
    "2. Used **several types of plots** to display *distributions*.\n",
    "\n",
    "\n",
    "3. Created **scatter plots** with different transparency. \n",
    "\n",
    "\n",
    "4. Used **density plots** and **hex bin plots** to overcome over-plotting. \n",
    "\n",
    "\n",
    "5. Applied **aesthetics** to project additional dimensions of categorical and numeric variables onto a 2d plot surface. \n",
    "\n",
    "\n",
    "6. Used **pair-wise scatter plots** and **conditioned plots** to create displays with multiple axes."
   ]
  }
 ],
 "metadata": {
  "kernelspec": {
   "display_name": "R",
   "language": "R",
   "name": "ir"
  },
  "language_info": {
   "codemirror_mode": "r",
   "file_extension": ".r",
   "mimetype": "text/x-r-source",
   "name": "R",
   "pygments_lexer": "r",
   "version": "3.4.3"
  }
 },
 "nbformat": 4,
 "nbformat_minor": 1
}
